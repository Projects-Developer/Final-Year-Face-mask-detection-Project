{
  "nbformat": 4,
  "nbformat_minor": 0,
  "metadata": {
    "colab": {
      "name": "Project_code1.ipynb",
      "provenance": []
    },
    "kernelspec": {
      "name": "python3",
      "display_name": "Python 3"
    }
  },
  "cells": [
    {
      "cell_type": "markdown",
      "metadata": {
        "id": "704rq82ccE-w"
      },
      "source": [
        "Happy to Help you Always.\n",
        "\n",
        "Mail me now  vatshayan007@gmail.com to get all the files.\n",
        "\n",
        "You can use it for yourself in college and work."
      ]
    }
  ]
}